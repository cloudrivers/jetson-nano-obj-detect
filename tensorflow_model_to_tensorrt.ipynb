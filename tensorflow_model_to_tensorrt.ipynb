{
  "nbformat": 4,
  "nbformat_minor": 0,
  "metadata": {
    "colab": {
      "name": "tensorflow-model-to-tensorrt.ipynb",
      "provenance": [],
      "include_colab_link": true
    },
    "kernelspec": {
      "name": "python3",
      "display_name": "Python 3"
    }
  },
  "cells": [
    {
      "cell_type": "markdown",
      "metadata": {
        "id": "view-in-github",
        "colab_type": "text"
      },
      "source": [
        "<a href=\"https://colab.research.google.com/github/rawar/jetson-nano-obj-detect/blob/master/tensorflow_model_to_tensorrt.ipynb\" target=\"_parent\"><img src=\"https://colab.research.google.com/assets/colab-badge.svg\" alt=\"Open In Colab\"/></a>"
      ]
    },
    {
      "cell_type": "code",
      "metadata": {
        "id": "tnEJqL-qAx22",
        "colab_type": "code",
        "colab": {}
      },
      "source": [
        "import os\n",
        "from google.colab import files\n",
        "import tensorflow as tf\n",
        "from tensorflow.python.framework import graph_io\n",
        "from tensorflow.keras.models import load_model\n",
        "from tensorflow.python.compiler.tensorrt import trt_convert as trt"
      ],
      "execution_count": 0,
      "outputs": []
    },
    {
      "cell_type": "code",
      "metadata": {
        "id": "E_dBir3bBJqa",
        "colab_type": "code",
        "colab": {
          "base_uri": "https://localhost:8080/",
          "height": 204
        },
        "outputId": "d85531b8-23b3-418e-ab15-5c05d905ac05"
      },
      "source": [
        "!wget http://download.tensorflow.org/models/object_detection/ssdlite_mobilenet_v2_coco_2018_05_09.tar.gz"
      ],
      "execution_count": 2,
      "outputs": [
        {
          "output_type": "stream",
          "text": [
            "--2019-09-29 13:03:30--  http://download.tensorflow.org/models/object_detection/ssdlite_mobilenet_v2_coco_2018_05_09.tar.gz\n",
            "Resolving download.tensorflow.org (download.tensorflow.org)... 74.125.20.128, 2607:f8b0:400e:c07::80\n",
            "Connecting to download.tensorflow.org (download.tensorflow.org)|74.125.20.128|:80... connected.\n",
            "HTTP request sent, awaiting response... 200 OK\n",
            "Length: 51025348 (49M) [application/x-tar]\n",
            "Saving to: ‘ssdlite_mobilenet_v2_coco_2018_05_09.tar.gz.1’\n",
            "\n",
            "ssdlite_mobilenet_v 100%[===================>]  48.66M   141MB/s    in 0.3s    \n",
            "\n",
            "2019-09-29 13:03:30 (141 MB/s) - ‘ssdlite_mobilenet_v2_coco_2018_05_09.tar.gz.1’ saved [51025348/51025348]\n",
            "\n"
          ],
          "name": "stdout"
        }
      ]
    },
    {
      "cell_type": "code",
      "metadata": {
        "id": "bwYjHYVPBP4U",
        "colab_type": "code",
        "colab": {
          "base_uri": "https://localhost:8080/",
          "height": 187
        },
        "outputId": "2ee4c36b-fda9-4386-c549-e18bce744dcd"
      },
      "source": [
        "!tar xvzf ssdlite_mobilenet_v2_coco_2018_05_09.tar.gz"
      ],
      "execution_count": 3,
      "outputs": [
        {
          "output_type": "stream",
          "text": [
            "ssdlite_mobilenet_v2_coco_2018_05_09/checkpoint\n",
            "ssdlite_mobilenet_v2_coco_2018_05_09/model.ckpt.data-00000-of-00001\n",
            "ssdlite_mobilenet_v2_coco_2018_05_09/model.ckpt.meta\n",
            "ssdlite_mobilenet_v2_coco_2018_05_09/model.ckpt.index\n",
            "ssdlite_mobilenet_v2_coco_2018_05_09/saved_model/saved_model.pb\n",
            "ssdlite_mobilenet_v2_coco_2018_05_09/pipeline.config\n",
            "ssdlite_mobilenet_v2_coco_2018_05_09/frozen_inference_graph.pb\n",
            "ssdlite_mobilenet_v2_coco_2018_05_09/\n",
            "ssdlite_mobilenet_v2_coco_2018_05_09/saved_model/variables/\n",
            "ssdlite_mobilenet_v2_coco_2018_05_09/saved_model/\n"
          ],
          "name": "stdout"
        }
      ]
    },
    {
      "cell_type": "code",
      "metadata": {
        "id": "CaREYtMvA_au",
        "colab_type": "code",
        "colab": {}
      },
      "source": [
        "saved_pb_dir = './ssdlite_mobilenet_v2_coco_2018_05_09/saved_model'\n",
        "trt_model_dir = './ssdlite_mobilenet_v2_coco_2018_05_09-trt'"
      ],
      "execution_count": 0,
      "outputs": []
    },
    {
      "cell_type": "code",
      "metadata": {
        "id": "iyKJWycbFEnC",
        "colab_type": "code",
        "colab": {
          "base_uri": "https://localhost:8080/",
          "height": 187
        },
        "outputId": "3502617a-6f32-49ea-8268-919656eb68d1"
      },
      "source": [
        "!ls -lah ssdlite_mobilenet_v2_coco_2018_05_09/"
      ],
      "execution_count": 5,
      "outputs": [
        {
          "output_type": "stream",
          "text": [
            "total 40M\n",
            "drwxr-x--- 3 345018 89939 4.0K May 10  2018 .\n",
            "drwxr-xr-x 1 root   root  4.0K Sep 29 13:03 ..\n",
            "-rw-r----- 1 345018 89939   77 May 10  2018 checkpoint\n",
            "-rw-r----- 1 345018 89939  19M May 10  2018 frozen_inference_graph.pb\n",
            "-rw-r----- 1 345018 89939  18M May 10  2018 model.ckpt.data-00000-of-00001\n",
            "-rw-r----- 1 345018 89939  18K May 10  2018 model.ckpt.index\n",
            "-rw-r----- 1 345018 89939 3.5M May 10  2018 model.ckpt.meta\n",
            "-rw-r----- 1 345018 89939 4.2K May 10  2018 pipeline.config\n",
            "drwxr-x--- 3 345018 89939 4.0K May 10  2018 saved_model\n"
          ],
          "name": "stdout"
        }
      ]
    },
    {
      "cell_type": "code",
      "metadata": {
        "id": "Wj-gcY5gE0tA",
        "colab_type": "code",
        "colab": {
          "base_uri": "https://localhost:8080/",
          "height": 68
        },
        "outputId": "1ee02178-61a1-48d4-ac31-711881f45c65"
      },
      "source": [
        "converter = trt.TrtGraphConverter(input_saved_model_dir=saved_pb_dir)"
      ],
      "execution_count": 14,
      "outputs": [
        {
          "output_type": "stream",
          "text": [
            "INFO:tensorflow:Linked TensorRT version: (0, 0, 0)\n",
            "INFO:tensorflow:Loaded TensorRT version: (0, 0, 0)\n",
            "INFO:tensorflow:Running against TensorRT version 0.0.0\n"
          ],
          "name": "stdout"
        }
      ]
    },
    {
      "cell_type": "code",
      "metadata": {
        "id": "N6DGbIZuGnZ_",
        "colab_type": "code",
        "colab": {}
      },
      "source": [
        "os.makedirs(trt_model_dir, exist_ok=True)"
      ],
      "execution_count": 0,
      "outputs": []
    },
    {
      "cell_type": "code",
      "metadata": {
        "id": "uqe2IsKnFMAn",
        "colab_type": "code",
        "colab": {
          "base_uri": "https://localhost:8080/",
          "height": 136
        },
        "outputId": "3c98dc10-56cd-49ad-a475-d159f09bc0fa"
      },
      "source": [
        "converter.convert()\n",
        "converter.save(trt_model_dir)"
      ],
      "execution_count": 16,
      "outputs": [
        {
          "output_type": "stream",
          "text": [
            "INFO:tensorflow:Saver not created because there are no variables in the graph to restore\n",
            "INFO:tensorflow:The specified SavedModel has no variables; no checkpoints were restored.\n",
            "INFO:tensorflow:Froze 0 variables.\n",
            "INFO:tensorflow:Converted 0 variables to const ops.\n",
            "INFO:tensorflow:No assets to save.\n",
            "INFO:tensorflow:No assets to write.\n",
            "INFO:tensorflow:SavedModel written to: ./ssdlite_mobilenet_v2_coco_2018_05_09-trt/saved_model.pb\n"
          ],
          "name": "stdout"
        }
      ]
    },
    {
      "cell_type": "code",
      "metadata": {
        "id": "i9EqxRR5IdoR",
        "colab_type": "code",
        "colab": {}
      },
      "source": [
        "files.download(trt_model_dir+\"/saved_model.pb\") "
      ],
      "execution_count": 0,
      "outputs": []
    }
  ]
}